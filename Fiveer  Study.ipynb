{
 "cells": [
  {
   "cell_type": "markdown",
   "metadata": {},
   "source": [
    "# Market Study : The catalog of Fiverr's Offers\n",
    "\n",
    "Fiverr is an Israeli online marketplace for freelance services. The company provides a platform for freelancers to offer services to customers worldwide.\n",
    "Fiverr was founded by Micha Kaufman and Shai Wininger, and was launched in February 2010. The founders came up with the concept of a marketplace that would provide a two sided platform for people to buy and sell a variety of digital services typically offered by freelance contractors. Services offered on the site include writing, translation, graphic design, video editing and programming.Fiverr's services start at US$5, and can go up to thousands of dollars with gig extras. Each service offered is called a \"gig\".\n",
    "\n",
    "In december 16th 2020, Fiveer announced the results of a survey, conducted in partnership with Censuswide, analyzing U.S. workers who are working remotely or who did so this year* and their current sentiment towards remote work and their jobs in 2021. The data set, which looks at 1,035 of these workers, revealed that the current work from home environment is leading to an increase in people’s desire to freelance.\n",
    "\n",
    "View the full release here: https://www.businesswire.com/news/home/20201216005256/en/\n",
    "\n",
    "\n"
   ]
  },
  {
   "cell_type": "code",
   "execution_count": 1,
   "metadata": {},
   "outputs": [
    {
     "name": "stdout",
     "output_type": "stream",
     "text": [
      "Libraries imported.\n",
      "Matplotlib version:  3.3.2\n"
     ]
    }
   ],
   "source": [
    "import numpy as np # library to handle data in a vectorized manner\n",
    "import pandas as pd\n",
    "print('Libraries imported.')\n",
    "import os\n",
    "from wordcloud import WordCloud, STOPWORDS, ImageColorGenerator\n",
    "%matplotlib inline \n",
    "import matplotlib as mpl\n",
    "import matplotlib.pyplot as plt\n",
    "mpl.style.use('ggplot') # optional: for ggplot-like style\n",
    "import seaborn as sns\n",
    "from sklearn.pipeline import Pipeline\n",
    "from sklearn.preprocessing import StandardScaler,PolynomialFeatures\n",
    "from sklearn.linear_model import LinearRegression\n",
    "%matplotlib inline\n",
    "# check for latest version of Matplotlib \n",
    "print('Matplotlib version: ', mpl.__version__) # >= 2.0.0"
   ]
  },
  {
   "cell_type": "code",
   "execution_count": 2,
   "metadata": {},
   "outputs": [
    {
     "data": {
      "text/html": [
       "<div>\n",
       "<style scoped>\n",
       "    .dataframe tbody tr th:only-of-type {\n",
       "        vertical-align: middle;\n",
       "    }\n",
       "\n",
       "    .dataframe tbody tr th {\n",
       "        vertical-align: top;\n",
       "    }\n",
       "\n",
       "    .dataframe thead th {\n",
       "        text-align: right;\n",
       "    }\n",
       "</style>\n",
       "<table border=\"1\" class=\"dataframe\">\n",
       "  <thead>\n",
       "    <tr style=\"text-align: right;\">\n",
       "      <th></th>\n",
       "      <th>Unnamed: 0</th>\n",
       "      <th>ï..Category</th>\n",
       "      <th>Subcat</th>\n",
       "      <th>name</th>\n",
       "      <th>price</th>\n",
       "      <th>stars</th>\n",
       "      <th>votes</th>\n",
       "    </tr>\n",
       "  </thead>\n",
       "  <tbody>\n",
       "    <tr>\n",
       "      <th>0</th>\n",
       "      <td>1</td>\n",
       "      <td>Programming &amp; Tech</td>\n",
       "      <td>Data Analysis &amp; Reports</td>\n",
       "      <td>build automated and insightful power bi report</td>\n",
       "      <td>137.76</td>\n",
       "      <td>5.0</td>\n",
       "      <td>10</td>\n",
       "    </tr>\n",
       "    <tr>\n",
       "      <th>1</th>\n",
       "      <td>2</td>\n",
       "      <td>Lifestyle</td>\n",
       "      <td>Greeting Cards &amp; Videos</td>\n",
       "      <td>get kermit to personalize a video birthday gre...</td>\n",
       "      <td>4.44</td>\n",
       "      <td>5.0</td>\n",
       "      <td>1k+</td>\n",
       "    </tr>\n",
       "    <tr>\n",
       "      <th>2</th>\n",
       "      <td>3</td>\n",
       "      <td>Programming &amp; Tech</td>\n",
       "      <td>Website Builders &amp; CMS</td>\n",
       "      <td>build or redesign your existing squarespace we...</td>\n",
       "      <td>66.66</td>\n",
       "      <td>5.0</td>\n",
       "      <td>68</td>\n",
       "    </tr>\n",
       "    <tr>\n",
       "      <th>3</th>\n",
       "      <td>4</td>\n",
       "      <td>Lifestyle</td>\n",
       "      <td>Cooking Lessons</td>\n",
       "      <td>create original eastern food cooking video recipe</td>\n",
       "      <td>17.78</td>\n",
       "      <td>4.9</td>\n",
       "      <td>5</td>\n",
       "    </tr>\n",
       "    <tr>\n",
       "      <th>4</th>\n",
       "      <td>5</td>\n",
       "      <td>Writing &amp; Translation</td>\n",
       "      <td>Legal Writing</td>\n",
       "      <td>write gdpr privacy policy and terms and condit...</td>\n",
       "      <td>8.89</td>\n",
       "      <td>5.0</td>\n",
       "      <td>2</td>\n",
       "    </tr>\n",
       "    <tr>\n",
       "      <th>...</th>\n",
       "      <td>...</td>\n",
       "      <td>...</td>\n",
       "      <td>...</td>\n",
       "      <td>...</td>\n",
       "      <td>...</td>\n",
       "      <td>...</td>\n",
       "      <td>...</td>\n",
       "    </tr>\n",
       "    <tr>\n",
       "      <th>6178</th>\n",
       "      <td>6179</td>\n",
       "      <td>Video &amp; Animation</td>\n",
       "      <td>Animated GIFs</td>\n",
       "      <td>do unique motion graphics video and animated gif</td>\n",
       "      <td>39.99</td>\n",
       "      <td>4.8</td>\n",
       "      <td>41</td>\n",
       "    </tr>\n",
       "    <tr>\n",
       "      <th>6179</th>\n",
       "      <td>6180</td>\n",
       "      <td>Business</td>\n",
       "      <td>Market Research</td>\n",
       "      <td>compare your business with its competitors</td>\n",
       "      <td>355.51</td>\n",
       "      <td>4.9</td>\n",
       "      <td>4</td>\n",
       "    </tr>\n",
       "    <tr>\n",
       "      <th>6180</th>\n",
       "      <td>6181</td>\n",
       "      <td>Writing &amp; Translation</td>\n",
       "      <td>Transcripts</td>\n",
       "      <td>accurately transcribe audio and video files</td>\n",
       "      <td>8.89</td>\n",
       "      <td>5.0</td>\n",
       "      <td>15</td>\n",
       "    </tr>\n",
       "    <tr>\n",
       "      <th>6181</th>\n",
       "      <td>6182</td>\n",
       "      <td>Lifestyle</td>\n",
       "      <td>Cooking Lessons</td>\n",
       "      <td>film high quality cooking video</td>\n",
       "      <td>62.21</td>\n",
       "      <td>5.0</td>\n",
       "      <td>8</td>\n",
       "    </tr>\n",
       "    <tr>\n",
       "      <th>6182</th>\n",
       "      <td>6183</td>\n",
       "      <td>Lifestyle</td>\n",
       "      <td>Cooking Lessons</td>\n",
       "      <td>give 1100 cooking  HQ videos for social media</td>\n",
       "      <td>4.44</td>\n",
       "      <td>4.8</td>\n",
       "      <td>9</td>\n",
       "    </tr>\n",
       "  </tbody>\n",
       "</table>\n",
       "<p>6183 rows × 7 columns</p>\n",
       "</div>"
      ],
      "text/plain": [
       "      Unnamed: 0            ï..Category                   Subcat  \\\n",
       "0              1     Programming & Tech  Data Analysis & Reports   \n",
       "1              2              Lifestyle  Greeting Cards & Videos   \n",
       "2              3     Programming & Tech   Website Builders & CMS   \n",
       "3              4              Lifestyle          Cooking Lessons   \n",
       "4              5  Writing & Translation            Legal Writing   \n",
       "...          ...                    ...                      ...   \n",
       "6178        6179      Video & Animation            Animated GIFs   \n",
       "6179        6180               Business          Market Research   \n",
       "6180        6181  Writing & Translation              Transcripts   \n",
       "6181        6182              Lifestyle          Cooking Lessons   \n",
       "6182        6183              Lifestyle          Cooking Lessons   \n",
       "\n",
       "                                                   name   price stars votes  \n",
       "0        build automated and insightful power bi report  137.76   5.0    10  \n",
       "1     get kermit to personalize a video birthday gre...    4.44   5.0   1k+  \n",
       "2     build or redesign your existing squarespace we...   66.66   5.0    68  \n",
       "3     create original eastern food cooking video recipe   17.78   4.9     5  \n",
       "4     write gdpr privacy policy and terms and condit...    8.89   5.0     2  \n",
       "...                                                 ...     ...   ...   ...  \n",
       "6178   do unique motion graphics video and animated gif   39.99   4.8    41  \n",
       "6179         compare your business with its competitors  355.51   4.9     4  \n",
       "6180        accurately transcribe audio and video files    8.89   5.0    15  \n",
       "6181                    film high quality cooking video   62.21   5.0     8  \n",
       "6182      give 1100 cooking  HQ videos for social media    4.44   4.8     9  \n",
       "\n",
       "[6183 rows x 7 columns]"
      ]
     },
     "execution_count": 2,
     "metadata": {},
     "output_type": "execute_result"
    }
   ],
   "source": [
    "#Let's import a data set coming from Fiverr extracted on March 2021\n",
    "#As the document is a CSV file, if you cannot open it and receive this kind of error \"utf-8' codec can't decode byte 0xe5 in position 0: invalid continuation byte\", search for the good encoding.\n",
    "df=pd.read_csv(r'/Users/Laura/Desktop/fiverr_clean.csv',encoding = \"latin-1\")\n",
    "df"
   ]
  },
  {
   "cell_type": "code",
   "execution_count": 3,
   "metadata": {},
   "outputs": [
    {
     "name": "stdout",
     "output_type": "stream",
     "text": [
      "FirstCategory\n",
      "Business                  720\n",
      "Digital Marketing         336\n",
      "Lifestyle                 864\n",
      "Music & Audio             768\n",
      "Programming & Tech        807\n",
      "Video & Animation        1248\n",
      "Writing & Translation    1440\n",
      "dtype: int64\n",
      "Subcat\n",
      "3D Product Animation                48\n",
      "Animated GIFs                       48\n",
      "Animation for Kids                  48\n",
      "Animation for Streamers             48\n",
      "App & Website Previews              48\n",
      "                                    ..\n",
      "White Papers                        48\n",
      "Whiteboard & Animated Explainers    48\n",
      "WordPress                           48\n",
      "Your Message On...                  48\n",
      "eLearning Video ProductionNew       48\n",
      "Length: 129, dtype: int64\n"
     ]
    }
   ],
   "source": [
    "df.rename(columns={\"ï..Category\": \"FirstCategory\"}, inplace=True)\n",
    "df.rename(columns={\"Unnamed: 0\": \"Count\"}, inplace=True)\n",
    "df_category_count = df.pivot_table(index=['FirstCategory'], aggfunc='size')\n",
    "df_Subcat_count = df.pivot_table(index=['Subcat'], aggfunc='size')\n",
    "df['price'].dtypes\n",
    "df['price'].transform(pd.to_numeric, errors='coerce')\n",
    "print (df_category_count) \n",
    "print (df_Subcat_count)"
   ]
  },
  {
   "cell_type": "code",
   "execution_count": 4,
   "metadata": {},
   "outputs": [
    {
     "name": "stdout",
     "output_type": "stream",
     "text": [
      "There is 7 Categories and 129 Sub-Categories in Fiverr.\n"
     ]
    }
   ],
   "source": [
    "print (\"There is 7 Categories and 129 Sub-Categories in Fiverr.\")"
   ]
  },
  {
   "cell_type": "code",
   "execution_count": 5,
   "metadata": {},
   "outputs": [
    {
     "data": {
      "text/plain": [
       "Count             int64\n",
       "FirstCategory    object\n",
       "Subcat           object\n",
       "name             object\n",
       "price            object\n",
       "stars            object\n",
       "votes            object\n",
       "dtype: object"
      ]
     },
     "execution_count": 5,
     "metadata": {},
     "output_type": "execute_result"
    }
   ],
   "source": [
    "df.dtypes"
   ]
  },
  {
   "cell_type": "code",
   "execution_count": 6,
   "metadata": {},
   "outputs": [],
   "source": [
    "#Change price type to be able to make some calculation on it\n",
    "df.price = df['price'].str.replace(',', '.', regex=True).astype(float)"
   ]
  },
  {
   "cell_type": "code",
   "execution_count": 7,
   "metadata": {},
   "outputs": [],
   "source": [
    "df['price2']=df.price"
   ]
  },
  {
   "cell_type": "code",
   "execution_count": 8,
   "metadata": {},
   "outputs": [
    {
     "data": {
      "text/html": [
       "<div>\n",
       "<style scoped>\n",
       "    .dataframe tbody tr th:only-of-type {\n",
       "        vertical-align: middle;\n",
       "    }\n",
       "\n",
       "    .dataframe tbody tr th {\n",
       "        vertical-align: top;\n",
       "    }\n",
       "\n",
       "    .dataframe thead th {\n",
       "        text-align: right;\n",
       "    }\n",
       "</style>\n",
       "<table border=\"1\" class=\"dataframe\">\n",
       "  <thead>\n",
       "    <tr style=\"text-align: right;\">\n",
       "      <th></th>\n",
       "      <th>Count</th>\n",
       "      <th>FirstCategory</th>\n",
       "      <th>Subcat</th>\n",
       "      <th>name</th>\n",
       "      <th>price</th>\n",
       "      <th>stars</th>\n",
       "      <th>votes</th>\n",
       "      <th>price2</th>\n",
       "    </tr>\n",
       "  </thead>\n",
       "  <tbody>\n",
       "    <tr>\n",
       "      <th>0</th>\n",
       "      <td>1</td>\n",
       "      <td>Programming &amp; Tech</td>\n",
       "      <td>Data Analysis &amp; Reports</td>\n",
       "      <td>build automated and insightful power bi report</td>\n",
       "      <td>137.76</td>\n",
       "      <td>5.0</td>\n",
       "      <td>10</td>\n",
       "      <td>137.76</td>\n",
       "    </tr>\n",
       "    <tr>\n",
       "      <th>1</th>\n",
       "      <td>2</td>\n",
       "      <td>Lifestyle</td>\n",
       "      <td>Greeting Cards &amp; Videos</td>\n",
       "      <td>get kermit to personalize a video birthday gre...</td>\n",
       "      <td>4.44</td>\n",
       "      <td>5.0</td>\n",
       "      <td>1k+</td>\n",
       "      <td>4.44</td>\n",
       "    </tr>\n",
       "    <tr>\n",
       "      <th>2</th>\n",
       "      <td>3</td>\n",
       "      <td>Programming &amp; Tech</td>\n",
       "      <td>Website Builders &amp; CMS</td>\n",
       "      <td>build or redesign your existing squarespace we...</td>\n",
       "      <td>66.66</td>\n",
       "      <td>5.0</td>\n",
       "      <td>68</td>\n",
       "      <td>66.66</td>\n",
       "    </tr>\n",
       "    <tr>\n",
       "      <th>3</th>\n",
       "      <td>4</td>\n",
       "      <td>Lifestyle</td>\n",
       "      <td>Cooking Lessons</td>\n",
       "      <td>create original eastern food cooking video recipe</td>\n",
       "      <td>17.78</td>\n",
       "      <td>4.9</td>\n",
       "      <td>5</td>\n",
       "      <td>17.78</td>\n",
       "    </tr>\n",
       "    <tr>\n",
       "      <th>4</th>\n",
       "      <td>5</td>\n",
       "      <td>Writing &amp; Translation</td>\n",
       "      <td>Legal Writing</td>\n",
       "      <td>write gdpr privacy policy and terms and condit...</td>\n",
       "      <td>8.89</td>\n",
       "      <td>5.0</td>\n",
       "      <td>2</td>\n",
       "      <td>8.89</td>\n",
       "    </tr>\n",
       "  </tbody>\n",
       "</table>\n",
       "</div>"
      ],
      "text/plain": [
       "   Count          FirstCategory                   Subcat  \\\n",
       "0      1     Programming & Tech  Data Analysis & Reports   \n",
       "1      2              Lifestyle  Greeting Cards & Videos   \n",
       "2      3     Programming & Tech   Website Builders & CMS   \n",
       "3      4              Lifestyle          Cooking Lessons   \n",
       "4      5  Writing & Translation            Legal Writing   \n",
       "\n",
       "                                                name   price stars votes  \\\n",
       "0     build automated and insightful power bi report  137.76   5.0    10   \n",
       "1  get kermit to personalize a video birthday gre...    4.44   5.0   1k+   \n",
       "2  build or redesign your existing squarespace we...   66.66   5.0    68   \n",
       "3  create original eastern food cooking video recipe   17.78   4.9     5   \n",
       "4  write gdpr privacy policy and terms and condit...    8.89   5.0     2   \n",
       "\n",
       "   price2  \n",
       "0  137.76  \n",
       "1    4.44  \n",
       "2   66.66  \n",
       "3   17.78  \n",
       "4    8.89  "
      ]
     },
     "execution_count": 8,
     "metadata": {},
     "output_type": "execute_result"
    }
   ],
   "source": [
    "df.head()"
   ]
  },
  {
   "cell_type": "code",
   "execution_count": 9,
   "metadata": {},
   "outputs": [
    {
     "data": {
      "text/plain": [
       "count    6183.000000\n",
       "mean       53.688866\n",
       "std        91.518546\n",
       "min         1.103000\n",
       "25%         8.890000\n",
       "50%        22.220000\n",
       "75%        57.770000\n",
       "max       999.870000\n",
       "Name: price2, dtype: float64"
      ]
     },
     "execution_count": 9,
     "metadata": {},
     "output_type": "execute_result"
    }
   ],
   "source": [
    "df['price2'].describe()"
   ]
  },
  {
   "cell_type": "code",
   "execution_count": 10,
   "metadata": {},
   "outputs": [
    {
     "data": {
      "text/html": [
       "<div>\n",
       "<style scoped>\n",
       "    .dataframe tbody tr th:only-of-type {\n",
       "        vertical-align: middle;\n",
       "    }\n",
       "\n",
       "    .dataframe tbody tr th {\n",
       "        vertical-align: top;\n",
       "    }\n",
       "\n",
       "    .dataframe thead th {\n",
       "        text-align: right;\n",
       "    }\n",
       "</style>\n",
       "<table border=\"1\" class=\"dataframe\">\n",
       "  <thead>\n",
       "    <tr style=\"text-align: right;\">\n",
       "      <th></th>\n",
       "      <th>Count</th>\n",
       "      <th>FirstCategory</th>\n",
       "      <th>Subcat</th>\n",
       "      <th>name</th>\n",
       "      <th>stars</th>\n",
       "      <th>votes</th>\n",
       "      <th>price</th>\n",
       "    </tr>\n",
       "  </thead>\n",
       "  <tbody>\n",
       "    <tr>\n",
       "      <th>0</th>\n",
       "      <td>1</td>\n",
       "      <td>Programming &amp; Tech</td>\n",
       "      <td>Data Analysis &amp; Reports</td>\n",
       "      <td>build automated and insightful power bi report</td>\n",
       "      <td>5.0</td>\n",
       "      <td>10</td>\n",
       "      <td>137.76</td>\n",
       "    </tr>\n",
       "    <tr>\n",
       "      <th>1</th>\n",
       "      <td>2</td>\n",
       "      <td>Lifestyle</td>\n",
       "      <td>Greeting Cards &amp; Videos</td>\n",
       "      <td>get kermit to personalize a video birthday gre...</td>\n",
       "      <td>5.0</td>\n",
       "      <td>1k+</td>\n",
       "      <td>4.44</td>\n",
       "    </tr>\n",
       "    <tr>\n",
       "      <th>2</th>\n",
       "      <td>3</td>\n",
       "      <td>Programming &amp; Tech</td>\n",
       "      <td>Website Builders &amp; CMS</td>\n",
       "      <td>build or redesign your existing squarespace we...</td>\n",
       "      <td>5.0</td>\n",
       "      <td>68</td>\n",
       "      <td>66.66</td>\n",
       "    </tr>\n",
       "    <tr>\n",
       "      <th>3</th>\n",
       "      <td>4</td>\n",
       "      <td>Lifestyle</td>\n",
       "      <td>Cooking Lessons</td>\n",
       "      <td>create original eastern food cooking video recipe</td>\n",
       "      <td>4.9</td>\n",
       "      <td>5</td>\n",
       "      <td>17.78</td>\n",
       "    </tr>\n",
       "    <tr>\n",
       "      <th>4</th>\n",
       "      <td>5</td>\n",
       "      <td>Writing &amp; Translation</td>\n",
       "      <td>Legal Writing</td>\n",
       "      <td>write gdpr privacy policy and terms and condit...</td>\n",
       "      <td>5.0</td>\n",
       "      <td>2</td>\n",
       "      <td>8.89</td>\n",
       "    </tr>\n",
       "  </tbody>\n",
       "</table>\n",
       "</div>"
      ],
      "text/plain": [
       "   Count          FirstCategory                   Subcat  \\\n",
       "0      1     Programming & Tech  Data Analysis & Reports   \n",
       "1      2              Lifestyle  Greeting Cards & Videos   \n",
       "2      3     Programming & Tech   Website Builders & CMS   \n",
       "3      4              Lifestyle          Cooking Lessons   \n",
       "4      5  Writing & Translation            Legal Writing   \n",
       "\n",
       "                                                name stars votes   price  \n",
       "0     build automated and insightful power bi report   5.0    10  137.76  \n",
       "1  get kermit to personalize a video birthday gre...   5.0   1k+    4.44  \n",
       "2  build or redesign your existing squarespace we...   5.0    68   66.66  \n",
       "3  create original eastern food cooking video recipe   4.9     5   17.78  \n",
       "4  write gdpr privacy policy and terms and condit...   5.0     2    8.89  "
      ]
     },
     "execution_count": 10,
     "metadata": {},
     "output_type": "execute_result"
    }
   ],
   "source": [
    "df.drop(columns=\"price\",  axis=1, inplace=True)\n",
    "df.rename(columns={\"price2\": \"price\"}, inplace=True)\n",
    "df.head()"
   ]
  },
  {
   "cell_type": "code",
   "execution_count": 11,
   "metadata": {},
   "outputs": [
    {
     "data": {
      "text/html": [
       "<div>\n",
       "<style scoped>\n",
       "    .dataframe tbody tr th:only-of-type {\n",
       "        vertical-align: middle;\n",
       "    }\n",
       "\n",
       "    .dataframe tbody tr th {\n",
       "        vertical-align: top;\n",
       "    }\n",
       "\n",
       "    .dataframe thead th {\n",
       "        text-align: right;\n",
       "    }\n",
       "</style>\n",
       "<table border=\"1\" class=\"dataframe\">\n",
       "  <thead>\n",
       "    <tr style=\"text-align: right;\">\n",
       "      <th></th>\n",
       "      <th>Count</th>\n",
       "      <th>FirstCategory</th>\n",
       "      <th>Subcat</th>\n",
       "      <th>price</th>\n",
       "    </tr>\n",
       "  </thead>\n",
       "  <tbody>\n",
       "    <tr>\n",
       "      <th>0</th>\n",
       "      <td>1</td>\n",
       "      <td>Programming &amp; Tech</td>\n",
       "      <td>Data Analysis &amp; Reports</td>\n",
       "      <td>137.76</td>\n",
       "    </tr>\n",
       "    <tr>\n",
       "      <th>1</th>\n",
       "      <td>2</td>\n",
       "      <td>Lifestyle</td>\n",
       "      <td>Greeting Cards &amp; Videos</td>\n",
       "      <td>4.44</td>\n",
       "    </tr>\n",
       "    <tr>\n",
       "      <th>2</th>\n",
       "      <td>3</td>\n",
       "      <td>Programming &amp; Tech</td>\n",
       "      <td>Website Builders &amp; CMS</td>\n",
       "      <td>66.66</td>\n",
       "    </tr>\n",
       "    <tr>\n",
       "      <th>3</th>\n",
       "      <td>4</td>\n",
       "      <td>Lifestyle</td>\n",
       "      <td>Cooking Lessons</td>\n",
       "      <td>17.78</td>\n",
       "    </tr>\n",
       "    <tr>\n",
       "      <th>4</th>\n",
       "      <td>5</td>\n",
       "      <td>Writing &amp; Translation</td>\n",
       "      <td>Legal Writing</td>\n",
       "      <td>8.89</td>\n",
       "    </tr>\n",
       "    <tr>\n",
       "      <th>...</th>\n",
       "      <td>...</td>\n",
       "      <td>...</td>\n",
       "      <td>...</td>\n",
       "      <td>...</td>\n",
       "    </tr>\n",
       "    <tr>\n",
       "      <th>6178</th>\n",
       "      <td>6179</td>\n",
       "      <td>Video &amp; Animation</td>\n",
       "      <td>Animated GIFs</td>\n",
       "      <td>39.99</td>\n",
       "    </tr>\n",
       "    <tr>\n",
       "      <th>6179</th>\n",
       "      <td>6180</td>\n",
       "      <td>Business</td>\n",
       "      <td>Market Research</td>\n",
       "      <td>355.51</td>\n",
       "    </tr>\n",
       "    <tr>\n",
       "      <th>6180</th>\n",
       "      <td>6181</td>\n",
       "      <td>Writing &amp; Translation</td>\n",
       "      <td>Transcripts</td>\n",
       "      <td>8.89</td>\n",
       "    </tr>\n",
       "    <tr>\n",
       "      <th>6181</th>\n",
       "      <td>6182</td>\n",
       "      <td>Lifestyle</td>\n",
       "      <td>Cooking Lessons</td>\n",
       "      <td>62.21</td>\n",
       "    </tr>\n",
       "    <tr>\n",
       "      <th>6182</th>\n",
       "      <td>6183</td>\n",
       "      <td>Lifestyle</td>\n",
       "      <td>Cooking Lessons</td>\n",
       "      <td>4.44</td>\n",
       "    </tr>\n",
       "  </tbody>\n",
       "</table>\n",
       "<p>6183 rows × 4 columns</p>\n",
       "</div>"
      ],
      "text/plain": [
       "      Count          FirstCategory                   Subcat   price\n",
       "0         1     Programming & Tech  Data Analysis & Reports  137.76\n",
       "1         2              Lifestyle  Greeting Cards & Videos    4.44\n",
       "2         3     Programming & Tech   Website Builders & CMS   66.66\n",
       "3         4              Lifestyle          Cooking Lessons   17.78\n",
       "4         5  Writing & Translation            Legal Writing    8.89\n",
       "...     ...                    ...                      ...     ...\n",
       "6178   6179      Video & Animation            Animated GIFs   39.99\n",
       "6179   6180               Business          Market Research  355.51\n",
       "6180   6181  Writing & Translation              Transcripts    8.89\n",
       "6181   6182              Lifestyle          Cooking Lessons   62.21\n",
       "6182   6183              Lifestyle          Cooking Lessons    4.44\n",
       "\n",
       "[6183 rows x 4 columns]"
      ]
     },
     "execution_count": 11,
     "metadata": {},
     "output_type": "execute_result"
    }
   ],
   "source": [
    "df.drop(columns=\"stars\",  axis=1, inplace=True)\n",
    "df.drop(columns=\"name\",  axis=1, inplace=True)\n",
    "df.drop(columns=\"votes\",  axis=1, inplace=True)\n",
    "df"
   ]
  },
  {
   "cell_type": "code",
   "execution_count": 12,
   "metadata": {},
   "outputs": [
    {
     "data": {
      "text/html": [
       "<div>\n",
       "<style scoped>\n",
       "    .dataframe tbody tr th:only-of-type {\n",
       "        vertical-align: middle;\n",
       "    }\n",
       "\n",
       "    .dataframe tbody tr th {\n",
       "        vertical-align: top;\n",
       "    }\n",
       "\n",
       "    .dataframe thead th {\n",
       "        text-align: right;\n",
       "    }\n",
       "</style>\n",
       "<table border=\"1\" class=\"dataframe\">\n",
       "  <thead>\n",
       "    <tr style=\"text-align: right;\">\n",
       "      <th></th>\n",
       "      <th>Count</th>\n",
       "      <th>FirstCategory_x</th>\n",
       "      <th>Subcat</th>\n",
       "      <th>price</th>\n",
       "      <th>FirstCategory_y</th>\n",
       "    </tr>\n",
       "  </thead>\n",
       "  <tbody>\n",
       "    <tr>\n",
       "      <th>0</th>\n",
       "      <td>1</td>\n",
       "      <td>Programming &amp; Tech</td>\n",
       "      <td>Data Analysis &amp; Reports</td>\n",
       "      <td>137.76</td>\n",
       "      <td>1</td>\n",
       "    </tr>\n",
       "    <tr>\n",
       "      <th>1</th>\n",
       "      <td>65</td>\n",
       "      <td>Programming &amp; Tech</td>\n",
       "      <td>Data Analysis &amp; Reports</td>\n",
       "      <td>44.44</td>\n",
       "      <td>1</td>\n",
       "    </tr>\n",
       "    <tr>\n",
       "      <th>2</th>\n",
       "      <td>361</td>\n",
       "      <td>Programming &amp; Tech</td>\n",
       "      <td>Data Analysis &amp; Reports</td>\n",
       "      <td>4.44</td>\n",
       "      <td>1</td>\n",
       "    </tr>\n",
       "    <tr>\n",
       "      <th>3</th>\n",
       "      <td>387</td>\n",
       "      <td>Programming &amp; Tech</td>\n",
       "      <td>Data Analysis &amp; Reports</td>\n",
       "      <td>79.99</td>\n",
       "      <td>1</td>\n",
       "    </tr>\n",
       "    <tr>\n",
       "      <th>4</th>\n",
       "      <td>548</td>\n",
       "      <td>Programming &amp; Tech</td>\n",
       "      <td>Data Analysis &amp; Reports</td>\n",
       "      <td>8.89</td>\n",
       "      <td>1</td>\n",
       "    </tr>\n",
       "    <tr>\n",
       "      <th>...</th>\n",
       "      <td>...</td>\n",
       "      <td>...</td>\n",
       "      <td>...</td>\n",
       "      <td>...</td>\n",
       "      <td>...</td>\n",
       "    </tr>\n",
       "    <tr>\n",
       "      <th>6178</th>\n",
       "      <td>5140</td>\n",
       "      <td>Writing &amp; Translation</td>\n",
       "      <td>Social Media Copy</td>\n",
       "      <td>26.66</td>\n",
       "      <td>1</td>\n",
       "    </tr>\n",
       "    <tr>\n",
       "      <th>6179</th>\n",
       "      <td>5327</td>\n",
       "      <td>Writing &amp; Translation</td>\n",
       "      <td>Social Media Copy</td>\n",
       "      <td>13.33</td>\n",
       "      <td>1</td>\n",
       "    </tr>\n",
       "    <tr>\n",
       "      <th>6180</th>\n",
       "      <td>5756</td>\n",
       "      <td>Writing &amp; Translation</td>\n",
       "      <td>Social Media Copy</td>\n",
       "      <td>53.33</td>\n",
       "      <td>1</td>\n",
       "    </tr>\n",
       "    <tr>\n",
       "      <th>6181</th>\n",
       "      <td>5945</td>\n",
       "      <td>Writing &amp; Translation</td>\n",
       "      <td>Social Media Copy</td>\n",
       "      <td>13.33</td>\n",
       "      <td>1</td>\n",
       "    </tr>\n",
       "    <tr>\n",
       "      <th>6182</th>\n",
       "      <td>6045</td>\n",
       "      <td>Writing &amp; Translation</td>\n",
       "      <td>Social Media Copy</td>\n",
       "      <td>66.66</td>\n",
       "      <td>1</td>\n",
       "    </tr>\n",
       "  </tbody>\n",
       "</table>\n",
       "<p>6183 rows × 5 columns</p>\n",
       "</div>"
      ],
      "text/plain": [
       "      Count        FirstCategory_x                   Subcat   price  \\\n",
       "0         1     Programming & Tech  Data Analysis & Reports  137.76   \n",
       "1        65     Programming & Tech  Data Analysis & Reports   44.44   \n",
       "2       361     Programming & Tech  Data Analysis & Reports    4.44   \n",
       "3       387     Programming & Tech  Data Analysis & Reports   79.99   \n",
       "4       548     Programming & Tech  Data Analysis & Reports    8.89   \n",
       "...     ...                    ...                      ...     ...   \n",
       "6178   5140  Writing & Translation        Social Media Copy   26.66   \n",
       "6179   5327  Writing & Translation        Social Media Copy   13.33   \n",
       "6180   5756  Writing & Translation        Social Media Copy   53.33   \n",
       "6181   5945  Writing & Translation        Social Media Copy   13.33   \n",
       "6182   6045  Writing & Translation        Social Media Copy   66.66   \n",
       "\n",
       "      FirstCategory_y  \n",
       "0                   1  \n",
       "1                   1  \n",
       "2                   1  \n",
       "3                   1  \n",
       "4                   1  \n",
       "...               ...  \n",
       "6178                1  \n",
       "6179                1  \n",
       "6180                1  \n",
       "6181                1  \n",
       "6182                1  \n",
       "\n",
       "[6183 rows x 5 columns]"
      ]
     },
     "execution_count": 12,
     "metadata": {},
     "output_type": "execute_result"
    }
   ],
   "source": [
    "df1=(df.groupby('Subcat').FirstCategory.nunique().to_frame())\n",
    "df_subcat = pd.merge(df, df1, on='Subcat')\n",
    "df_subcat"
   ]
  },
  {
   "cell_type": "code",
   "execution_count": 13,
   "metadata": {},
   "outputs": [
    {
     "data": {
      "text/html": [
       "<div>\n",
       "<style scoped>\n",
       "    .dataframe tbody tr th:only-of-type {\n",
       "        vertical-align: middle;\n",
       "    }\n",
       "\n",
       "    .dataframe tbody tr th {\n",
       "        vertical-align: top;\n",
       "    }\n",
       "\n",
       "    .dataframe thead th {\n",
       "        text-align: right;\n",
       "    }\n",
       "</style>\n",
       "<table border=\"1\" class=\"dataframe\">\n",
       "  <thead>\n",
       "    <tr style=\"text-align: right;\">\n",
       "      <th></th>\n",
       "      <th>Count</th>\n",
       "      <th>price</th>\n",
       "      <th>FirstCategory_y</th>\n",
       "    </tr>\n",
       "    <tr>\n",
       "      <th>FirstCategory_x</th>\n",
       "      <th></th>\n",
       "      <th></th>\n",
       "      <th></th>\n",
       "    </tr>\n",
       "  </thead>\n",
       "  <tbody>\n",
       "    <tr>\n",
       "      <th>Business</th>\n",
       "      <td>2302084</td>\n",
       "      <td>42894.652</td>\n",
       "      <td>720</td>\n",
       "    </tr>\n",
       "    <tr>\n",
       "      <th>Digital Marketing</th>\n",
       "      <td>1020853</td>\n",
       "      <td>15602.440</td>\n",
       "      <td>336</td>\n",
       "    </tr>\n",
       "    <tr>\n",
       "      <th>Lifestyle</th>\n",
       "      <td>2643198</td>\n",
       "      <td>14366.610</td>\n",
       "      <td>864</td>\n",
       "    </tr>\n",
       "    <tr>\n",
       "      <th>Music &amp; Audio</th>\n",
       "      <td>2362997</td>\n",
       "      <td>30486.364</td>\n",
       "      <td>768</td>\n",
       "    </tr>\n",
       "    <tr>\n",
       "      <th>Programming &amp; Tech</th>\n",
       "      <td>2518705</td>\n",
       "      <td>63559.387</td>\n",
       "      <td>807</td>\n",
       "    </tr>\n",
       "  </tbody>\n",
       "</table>\n",
       "</div>"
      ],
      "text/plain": [
       "                      Count      price  FirstCategory_y\n",
       "FirstCategory_x                                        \n",
       "Business            2302084  42894.652              720\n",
       "Digital Marketing   1020853  15602.440              336\n",
       "Lifestyle           2643198  14366.610              864\n",
       "Music & Audio       2362997  30486.364              768\n",
       "Programming & Tech  2518705  63559.387              807"
      ]
     },
     "execution_count": 13,
     "metadata": {},
     "output_type": "execute_result"
    }
   ],
   "source": [
    "# group countries by continents and apply sum() function\n",
    "df_subcat1 = df_subcat.groupby('FirstCategory_x', axis=0).sum()\n",
    "# note: the output of the groupby method is a `groupby' object.\n",
    "# we can not use it further until we apply a function (eg .sum()) print(type(df_can.groupby('Continent', axis=0)))\n",
    "df_subcat1.head()"
   ]
  },
  {
   "cell_type": "code",
   "execution_count": 29,
   "metadata": {},
   "outputs": [
    {
     "data": {
      "image/png": "[encoded data removed]",
      "text/plain": [
       "<Figure size 360x432 with 1 Axes>"
      ]
     },
     "metadata": {},
     "output_type": "display_data"
    }
   ],
   "source": [
    "\n",
    "df_subcat1['FirstCategory_y'].plot(kind='pie',\n",
    "                        figsize=(5, 6),\n",
    "                        autopct='%1.1f%%', # add in percentages \n",
    "                        startangle=90, # start angle 90° (Africa) \n",
    "                        shadow=True, # add shadow\n",
    ")\n",
    "plt.title('Breakdown Fiverr Categories by quantity') \n",
    "plt.axis('equal') # Sets the pie chart to look like a circle.\n",
    "plt.show()\n",
    "\n"
   ]
  },
  {
   "cell_type": "code",
   "execution_count": 15,
   "metadata": {},
   "outputs": [
    {
     "data": {
      "image/png": "[encoded data removed]",
      "text/plain": [
       "<Figure size 360x432 with 1 Axes>"
      ]
     },
     "metadata": {},
     "output_type": "display_data"
    }
   ],
   "source": [
    "df_subcat1['price'].plot(kind='pie',\n",
    "                        figsize=(5, 6),\n",
    "                        autopct='%1.1f%%', # add in percentages \n",
    "                        startangle=90, # start angle 90° (Africa) \n",
    "                        shadow=True, # add shadow\n",
    ")\n",
    "plt.title('Breakdown Fiverr Categories by price') \n",
    "plt.axis('equal') # Sets the pie chart to look like a circle.\n",
    "plt.show()"
   ]
  },
  {
   "cell_type": "code",
   "execution_count": 16,
   "metadata": {},
   "outputs": [
    {
     "name": "stdout",
     "output_type": "stream",
     "text": [
      "Fiverr's largest categories are Writing and Translation, Video & Animation and Lifestyle.\n"
     ]
    }
   ],
   "source": [
    "print (\"Fiverr's largest categories are Writing and Translation, Video & Animation and Lifestyle.\")"
   ]
  },
  {
   "cell_type": "code",
   "execution_count": 17,
   "metadata": {},
   "outputs": [
    {
     "data": {
      "text/html": [
       "<div>\n",
       "<style scoped>\n",
       "    .dataframe tbody tr th:only-of-type {\n",
       "        vertical-align: middle;\n",
       "    }\n",
       "\n",
       "    .dataframe tbody tr th {\n",
       "        vertical-align: top;\n",
       "    }\n",
       "\n",
       "    .dataframe thead th {\n",
       "        text-align: right;\n",
       "    }\n",
       "</style>\n",
       "<table border=\"1\" class=\"dataframe\">\n",
       "  <thead>\n",
       "    <tr style=\"text-align: right;\">\n",
       "      <th></th>\n",
       "      <th>Count</th>\n",
       "      <th>FirstCategory_x</th>\n",
       "      <th>Subcat</th>\n",
       "      <th>price</th>\n",
       "      <th>Qtity</th>\n",
       "    </tr>\n",
       "  </thead>\n",
       "  <tbody>\n",
       "    <tr>\n",
       "      <th>0</th>\n",
       "      <td>1</td>\n",
       "      <td>Programming &amp; Tech</td>\n",
       "      <td>Data Analysis &amp; Reports</td>\n",
       "      <td>137.76</td>\n",
       "      <td>1</td>\n",
       "    </tr>\n",
       "    <tr>\n",
       "      <th>1</th>\n",
       "      <td>65</td>\n",
       "      <td>Programming &amp; Tech</td>\n",
       "      <td>Data Analysis &amp; Reports</td>\n",
       "      <td>44.44</td>\n",
       "      <td>1</td>\n",
       "    </tr>\n",
       "    <tr>\n",
       "      <th>2</th>\n",
       "      <td>361</td>\n",
       "      <td>Programming &amp; Tech</td>\n",
       "      <td>Data Analysis &amp; Reports</td>\n",
       "      <td>4.44</td>\n",
       "      <td>1</td>\n",
       "    </tr>\n",
       "    <tr>\n",
       "      <th>3</th>\n",
       "      <td>387</td>\n",
       "      <td>Programming &amp; Tech</td>\n",
       "      <td>Data Analysis &amp; Reports</td>\n",
       "      <td>79.99</td>\n",
       "      <td>1</td>\n",
       "    </tr>\n",
       "    <tr>\n",
       "      <th>4</th>\n",
       "      <td>548</td>\n",
       "      <td>Programming &amp; Tech</td>\n",
       "      <td>Data Analysis &amp; Reports</td>\n",
       "      <td>8.89</td>\n",
       "      <td>1</td>\n",
       "    </tr>\n",
       "  </tbody>\n",
       "</table>\n",
       "</div>"
      ],
      "text/plain": [
       "   Count     FirstCategory_x                   Subcat   price  Qtity\n",
       "0      1  Programming & Tech  Data Analysis & Reports  137.76      1\n",
       "1     65  Programming & Tech  Data Analysis & Reports   44.44      1\n",
       "2    361  Programming & Tech  Data Analysis & Reports    4.44      1\n",
       "3    387  Programming & Tech  Data Analysis & Reports   79.99      1\n",
       "4    548  Programming & Tech  Data Analysis & Reports    8.89      1"
      ]
     },
     "execution_count": 17,
     "metadata": {},
     "output_type": "execute_result"
    }
   ],
   "source": [
    "df_subcat.rename(columns={\"FirstCategory_y\": \"Qtity\"}, inplace=True)\n",
    "df_subcat.head()"
   ]
  },
  {
   "cell_type": "code",
   "execution_count": 18,
   "metadata": {},
   "outputs": [
    {
     "data": {
      "text/html": [
       "<div>\n",
       "<style scoped>\n",
       "    .dataframe tbody tr th:only-of-type {\n",
       "        vertical-align: middle;\n",
       "    }\n",
       "\n",
       "    .dataframe tbody tr th {\n",
       "        vertical-align: top;\n",
       "    }\n",
       "\n",
       "    .dataframe thead th {\n",
       "        text-align: right;\n",
       "    }\n",
       "</style>\n",
       "<table border=\"1\" class=\"dataframe\">\n",
       "  <thead>\n",
       "    <tr style=\"text-align: right;\">\n",
       "      <th></th>\n",
       "      <th>Count</th>\n",
       "      <th>price</th>\n",
       "      <th>Qtity</th>\n",
       "    </tr>\n",
       "    <tr>\n",
       "      <th>Subcat</th>\n",
       "      <th></th>\n",
       "      <th></th>\n",
       "      <th></th>\n",
       "    </tr>\n",
       "  </thead>\n",
       "  <tbody>\n",
       "    <tr>\n",
       "      <th>3D Product Animation</th>\n",
       "      <td>164284</td>\n",
       "      <td>5763.710</td>\n",
       "      <td>48</td>\n",
       "    </tr>\n",
       "    <tr>\n",
       "      <th>Animated GIFs</th>\n",
       "      <td>152718</td>\n",
       "      <td>2586.350</td>\n",
       "      <td>48</td>\n",
       "    </tr>\n",
       "    <tr>\n",
       "      <th>Animation for Kids</th>\n",
       "      <td>159288</td>\n",
       "      <td>2541.920</td>\n",
       "      <td>48</td>\n",
       "    </tr>\n",
       "    <tr>\n",
       "      <th>Animation for Streamers</th>\n",
       "      <td>123721</td>\n",
       "      <td>2124.140</td>\n",
       "      <td>48</td>\n",
       "    </tr>\n",
       "    <tr>\n",
       "      <th>App &amp; Website Previews</th>\n",
       "      <td>141154</td>\n",
       "      <td>2781.870</td>\n",
       "      <td>48</td>\n",
       "    </tr>\n",
       "    <tr>\n",
       "      <th>...</th>\n",
       "      <td>...</td>\n",
       "      <td>...</td>\n",
       "      <td>...</td>\n",
       "    </tr>\n",
       "    <tr>\n",
       "      <th>White Papers</th>\n",
       "      <td>158386</td>\n",
       "      <td>4457.220</td>\n",
       "      <td>48</td>\n",
       "    </tr>\n",
       "    <tr>\n",
       "      <th>Whiteboard &amp; Animated Explainers</th>\n",
       "      <td>166032</td>\n",
       "      <td>7342.283</td>\n",
       "      <td>48</td>\n",
       "    </tr>\n",
       "    <tr>\n",
       "      <th>WordPress</th>\n",
       "      <td>171174</td>\n",
       "      <td>5978.848</td>\n",
       "      <td>48</td>\n",
       "    </tr>\n",
       "    <tr>\n",
       "      <th>Your Message On...</th>\n",
       "      <td>129111</td>\n",
       "      <td>453.240</td>\n",
       "      <td>48</td>\n",
       "    </tr>\n",
       "    <tr>\n",
       "      <th>eLearning Video ProductionNew</th>\n",
       "      <td>156898</td>\n",
       "      <td>4405.019</td>\n",
       "      <td>48</td>\n",
       "    </tr>\n",
       "  </tbody>\n",
       "</table>\n",
       "<p>129 rows × 3 columns</p>\n",
       "</div>"
      ],
      "text/plain": [
       "                                   Count     price  Qtity\n",
       "Subcat                                                   \n",
       "3D Product Animation              164284  5763.710     48\n",
       "Animated GIFs                     152718  2586.350     48\n",
       "Animation for Kids                159288  2541.920     48\n",
       "Animation for Streamers           123721  2124.140     48\n",
       "App & Website Previews            141154  2781.870     48\n",
       "...                                  ...       ...    ...\n",
       "White Papers                      158386  4457.220     48\n",
       "Whiteboard & Animated Explainers  166032  7342.283     48\n",
       "WordPress                         171174  5978.848     48\n",
       "Your Message On...                129111   453.240     48\n",
       "eLearning Video ProductionNew     156898  4405.019     48\n",
       "\n",
       "[129 rows x 3 columns]"
      ]
     },
     "execution_count": 18,
     "metadata": {},
     "output_type": "execute_result"
    }
   ],
   "source": [
    "# group countries by continents and apply sum() function\n",
    "#df.groupby(['Fruit','Name']).sum()\n",
    "d2=df_subcat\n",
    "df_subcat_updated = d2.groupby('Subcat', axis=0).sum()\n",
    "# note: the output of the groupby method is a `groupby' object.\n",
    "# we can not use it further until we apply a function (eg .sum()) print(type(df_can.groupby('Continent', axis=0)))\n",
    "df_subcat_updated"
   ]
  },
  {
   "cell_type": "code",
   "execution_count": 19,
   "metadata": {},
   "outputs": [
    {
     "data": {
      "text/html": [
       "<div>\n",
       "<style scoped>\n",
       "    .dataframe tbody tr th:only-of-type {\n",
       "        vertical-align: middle;\n",
       "    }\n",
       "\n",
       "    .dataframe tbody tr th {\n",
       "        vertical-align: top;\n",
       "    }\n",
       "\n",
       "    .dataframe thead th {\n",
       "        text-align: right;\n",
       "    }\n",
       "</style>\n",
       "<table border=\"1\" class=\"dataframe\">\n",
       "  <thead>\n",
       "    <tr style=\"text-align: right;\">\n",
       "      <th></th>\n",
       "      <th>Subcat</th>\n",
       "      <th>Count</th>\n",
       "      <th>price</th>\n",
       "      <th>Qtity</th>\n",
       "      <th>mean</th>\n",
       "    </tr>\n",
       "  </thead>\n",
       "  <tbody>\n",
       "    <tr>\n",
       "      <th>0</th>\n",
       "      <td>Cybersecurity &amp; Data ProtectionNew</td>\n",
       "      <td>126923</td>\n",
       "      <td>9680.174</td>\n",
       "      <td>39</td>\n",
       "      <td>248.209590</td>\n",
       "    </tr>\n",
       "    <tr>\n",
       "      <th>1</th>\n",
       "      <td>Local PhotographyBeta</td>\n",
       "      <td>141529</td>\n",
       "      <td>9109.332</td>\n",
       "      <td>48</td>\n",
       "      <td>189.777750</td>\n",
       "    </tr>\n",
       "    <tr>\n",
       "      <th>2</th>\n",
       "      <td>E-Commerce Development</td>\n",
       "      <td>173859</td>\n",
       "      <td>8924.433</td>\n",
       "      <td>48</td>\n",
       "      <td>185.925687</td>\n",
       "    </tr>\n",
       "    <tr>\n",
       "      <th>3</th>\n",
       "      <td>Website Builders &amp; CMS</td>\n",
       "      <td>127245</td>\n",
       "      <td>8087.870</td>\n",
       "      <td>48</td>\n",
       "      <td>168.497292</td>\n",
       "    </tr>\n",
       "    <tr>\n",
       "      <th>4</th>\n",
       "      <td>Whiteboard &amp; Animated Explainers</td>\n",
       "      <td>166032</td>\n",
       "      <td>7342.283</td>\n",
       "      <td>48</td>\n",
       "      <td>152.964229</td>\n",
       "    </tr>\n",
       "    <tr>\n",
       "      <th>...</th>\n",
       "      <td>...</td>\n",
       "      <td>...</td>\n",
       "      <td>...</td>\n",
       "      <td>...</td>\n",
       "      <td>...</td>\n",
       "    </tr>\n",
       "    <tr>\n",
       "      <th>124</th>\n",
       "      <td>Subtitles &amp; Captions</td>\n",
       "      <td>139687</td>\n",
       "      <td>448.730</td>\n",
       "      <td>48</td>\n",
       "      <td>9.348542</td>\n",
       "    </tr>\n",
       "    <tr>\n",
       "      <th>125</th>\n",
       "      <td>Transcripts</td>\n",
       "      <td>151657</td>\n",
       "      <td>422.100</td>\n",
       "      <td>48</td>\n",
       "      <td>8.793750</td>\n",
       "    </tr>\n",
       "    <tr>\n",
       "      <th>126</th>\n",
       "      <td>Traveling</td>\n",
       "      <td>137447</td>\n",
       "      <td>368.750</td>\n",
       "      <td>48</td>\n",
       "      <td>7.682292</td>\n",
       "    </tr>\n",
       "    <tr>\n",
       "      <th>127</th>\n",
       "      <td>Collectibles</td>\n",
       "      <td>154742</td>\n",
       "      <td>324.330</td>\n",
       "      <td>48</td>\n",
       "      <td>6.756875</td>\n",
       "    </tr>\n",
       "    <tr>\n",
       "      <th>128</th>\n",
       "      <td>Article to VideoNew</td>\n",
       "      <td>139103</td>\n",
       "      <td>302.070</td>\n",
       "      <td>48</td>\n",
       "      <td>6.293125</td>\n",
       "    </tr>\n",
       "  </tbody>\n",
       "</table>\n",
       "<p>129 rows × 5 columns</p>\n",
       "</div>"
      ],
      "text/plain": [
       "                                 Subcat   Count     price  Qtity        mean\n",
       "0    Cybersecurity & Data ProtectionNew  126923  9680.174     39  248.209590\n",
       "1                 Local PhotographyBeta  141529  9109.332     48  189.777750\n",
       "2                E-Commerce Development  173859  8924.433     48  185.925687\n",
       "3                Website Builders & CMS  127245  8087.870     48  168.497292\n",
       "4      Whiteboard & Animated Explainers  166032  7342.283     48  152.964229\n",
       "..                                  ...     ...       ...    ...         ...\n",
       "124                Subtitles & Captions  139687   448.730     48    9.348542\n",
       "125                         Transcripts  151657   422.100     48    8.793750\n",
       "126                           Traveling  137447   368.750     48    7.682292\n",
       "127                        Collectibles  154742   324.330     48    6.756875\n",
       "128                 Article to VideoNew  139103   302.070     48    6.293125\n",
       "\n",
       "[129 rows x 5 columns]"
      ]
     },
     "execution_count": 19,
     "metadata": {},
     "output_type": "execute_result"
    }
   ],
   "source": [
    "#Get the mean of the average of price by subcategory\n",
    "df_subcat_updated['mean']= df_subcat_updated['price']/df_subcat_updated['Qtity']\n",
    "df_subcat_updated= df_subcat_updated.sort_values('mean',ascending=False)\n",
    "df_subcat_updated.reset_index(level=0, inplace=True)\n",
    "df_subcat_updated"
   ]
  },
  {
   "cell_type": "code",
   "execution_count": 20,
   "metadata": {},
   "outputs": [],
   "source": [
    "df_updateSub50=df_subcat_updated.head(50)"
   ]
  },
  {
   "cell_type": "code",
   "execution_count": 21,
   "metadata": {},
   "outputs": [
    {
     "data": {
      "text/plain": [
       "(0.0, 12373.93462307693)"
      ]
     },
     "execution_count": 21,
     "metadata": {},
     "output_type": "execute_result"
    },
    {
     "data": {
      "image/png": "[encoded data removed]",
      "text/plain": [
       "<Figure size 432x288 with 1 Axes>"
      ]
     },
     "metadata": {
      "needs_background": "light"
     },
     "output_type": "display_data"
    }
   ],
   "source": [
    "sns.regplot(x=\"mean\", y=\"price\", data=df_updateSub50)\n",
    "plt.ylim(0,)"
   ]
  },
  {
   "cell_type": "code",
   "execution_count": 22,
   "metadata": {},
   "outputs": [
    {
     "data": {
      "text/plain": [
       "<AxesSubplot:xlabel='Subcat', ylabel='count'>"
      ]
     },
     "execution_count": 22,
     "metadata": {},
     "output_type": "execute_result"
    },
    {
     "data": {
      "image/png": "[encoded data removed]",
      "text/plain": [
       "<Figure size 432x288 with 1 Axes>"
      ]
     },
     "metadata": {
      "needs_background": "light"
     },
     "output_type": "display_data"
    }
   ],
   "source": [
    "ax = sns.countplot(x='Subcat', data=df_updateSub50)\n",
    "ax.set_xticklabels(ax.get_xticklabels(), rotation=40, ha=\"right\")\n",
    "sns.set(rc={'figure.figsize':(11.7,8.27)})\n",
    "sns.countplot(x='Subcat',data=df_updateSub50)"
   ]
  },
  {
   "cell_type": "code",
   "execution_count": 23,
   "metadata": {},
   "outputs": [
    {
     "data": {
      "text/plain": [
       "0.978356171709423"
      ]
     },
     "execution_count": 23,
     "metadata": {},
     "output_type": "execute_result"
    }
   ],
   "source": [
    "#R2 is a statistic that will give some information about the goodness of fit of a model. \n",
    "#In regression, the R2 coefficient of determination is a statistical measure of how well the regression predictions approximate the real data points. \n",
    "#An R2 of 1 indicates that the regression predictions perfectly fit the data\n",
    "#Fit a linear regression model to predict the 'price' using the feature 'sqft_living' then calculate the R^2. \n",
    "#Take a screenshot of your code and the value of the R^2\n",
    "X = df_updateSub50[['mean']]\n",
    "Y = df_updateSub50['price']\n",
    "lm = LinearRegression()\n",
    "lm.fit(X,Y)\n",
    "lm.score(X, Y)"
   ]
  },
  {
   "cell_type": "code",
   "execution_count": 24,
   "metadata": {},
   "outputs": [
    {
     "name": "stdout",
     "output_type": "stream",
     "text": [
      "done\n"
     ]
    }
   ],
   "source": [
    "#Import the necessary modules:\n",
    "from sklearn.model_selection import cross_val_score\n",
    "from sklearn.model_selection import train_test_split\n",
    "print(\"done\")"
   ]
  },
  {
   "cell_type": "code",
   "execution_count": 25,
   "metadata": {},
   "outputs": [
    {
     "name": "stdout",
     "output_type": "stream",
     "text": [
      "number of test samples: 8\n",
      "number of training samples: 42\n"
     ]
    }
   ],
   "source": [
    "#We will split the data into training and testing sets\n",
    "features = ['mean','Qtity']\n",
    "X = df_updateSub50[features]\n",
    "Y = df_updateSub50['price']\n",
    "\n",
    "x_train, x_test, y_train, y_test = train_test_split(X, Y, test_size=0.15, random_state=1)\n",
    "\n",
    "\n",
    "print(\"number of test samples:\", x_test.shape[0])\n",
    "print(\"number of training samples:\",x_train.shape[0])"
   ]
  },
  {
   "cell_type": "code",
   "execution_count": 26,
   "metadata": {},
   "outputs": [],
   "source": [
    "#Create and fit a Ridge regression object using the training data, set the regularization parameter to 0.1, and calculate the R^2 using the test data.\n",
    "from sklearn.linear_model import Ridge"
   ]
  },
  {
   "cell_type": "code",
   "execution_count": 27,
   "metadata": {},
   "outputs": [
    {
     "data": {
      "text/plain": [
       "0.9999999350888501"
      ]
     },
     "execution_count": 27,
     "metadata": {},
     "output_type": "execute_result"
    }
   ],
   "source": [
    "RigeModel=Ridge(alpha=0.1)\n",
    "RigeModel.fit(x_train, y_train)\n",
    "RigeModel.score(x_test, y_test)"
   ]
  },
  {
   "cell_type": "code",
   "execution_count": 28,
   "metadata": {},
   "outputs": [
    {
     "data": {
      "image/png": "[encoded data removed]",
      "text/plain": [
       "<Figure size 720x432 with 1 Axes>"
      ]
     },
     "metadata": {},
     "output_type": "display_data"
    }
   ],
   "source": [
    "# step 2: plot data by sorting it decreasingly\n",
    "df_updateSub50 = df_updateSub50.groupby('Subcat', axis=0).sum()\n",
    "df_updateSub50= df_updateSub50.sort_values('mean',ascending=False)\n",
    "df_updateSub50['mean'].plot(kind='bar', figsize=(10, 6))\n",
    "plt.xlabel('Subcategories') # add to x-label to the plot\n",
    "plt.ylabel('Mean') # add y-label to the plot plt.title('Icelandic immigrants to Canada from 1980 to 2013') # add titl e to the plot\n",
    "plt.show()"
   ]
  },
  {
   "cell_type": "code",
   "execution_count": 36,
   "metadata": {},
   "outputs": [
    {
     "name": "stdout",
     "output_type": "stream",
     "text": [
      " First 50 sub-categories can pay you between §50 and §250 if you are skilled in it!\n"
     ]
    }
   ],
   "source": [
    "print(\" First 50 sub-categories can pay you between §50 and §250 if you are skilled in it!\")"
   ]
  }
 ],
 "metadata": {
  "kernelspec": {
   "display_name": "Python 3",
   "language": "python",
   "name": "python3"
  },
  "language_info": {
   "codemirror_mode": {
    "name": "ipython",
    "version": 3
   },
   "file_extension": ".py",
   "mimetype": "text/x-python",
   "name": "python",
   "nbconvert_exporter": "python",
   "pygments_lexer": "ipython3",
   "version": "3.8.5"
  }
 },
 "nbformat": 4,
 "nbformat_minor": 4
}
